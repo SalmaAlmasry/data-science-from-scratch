{
 "cells": [
  {
   "cell_type": "markdown",
   "id": "3c0c00e1",
   "metadata": {},
   "source": [
    "# Probability"
   ]
  },
  {
   "cell_type": "markdown",
   "id": "96e399e9",
   "metadata": {},
   "source": [
    "1) find the probability of \"both children are girls\" conditional that \"the older child is girl\" <br>\n",
    "2) find the probability of \"both children are girls\" conditional that \"at least one child is girl\""
   ]
  },
  {
   "cell_type": "code",
   "execution_count": 1,
   "id": "2de3c664",
   "metadata": {},
   "outputs": [],
   "source": [
    "import enum, random"
   ]
  },
  {
   "cell_type": "code",
   "execution_count": 2,
   "id": "e970c2e6",
   "metadata": {},
   "outputs": [],
   "source": [
    "class kid(enum.Enum):\n",
    "    BOY = 0\n",
    "    GIRL = 1"
   ]
  },
  {
   "cell_type": "code",
   "execution_count": 5,
   "id": "d99d6eaa",
   "metadata": {},
   "outputs": [],
   "source": [
    "def random_kid() -> kid:\n",
    "    return random.choice([kid.BOY, kid.GIRL])"
   ]
  },
  {
   "cell_type": "code",
   "execution_count": 6,
   "id": "23181e53",
   "metadata": {},
   "outputs": [],
   "source": [
    "both_girls = 0\n",
    "older_girl = 0\n",
    "either_girl = 0"
   ]
  },
  {
   "cell_type": "code",
   "execution_count": 7,
   "id": "f584b0c2",
   "metadata": {},
   "outputs": [],
   "source": [
    "random.seed(0)"
   ]
  },
  {
   "cell_type": "code",
   "execution_count": 8,
   "id": "adf6a164",
   "metadata": {},
   "outputs": [],
   "source": [
    "for _ in range(10000):\n",
    "    younger = random_kid()\n",
    "    older = random_kid()\n",
    "    if older == kid.GIRL:\n",
    "        older_girl+=1\n",
    "    if older == kid.GIRL and younger == kid.GIRL:\n",
    "        both_girls+=1\n",
    "    if older == kid.GIRL or younger == kid.GIRL:\n",
    "        either_girl+=1"
   ]
  },
  {
   "cell_type": "code",
   "execution_count": 9,
   "id": "73e6d488",
   "metadata": {
    "scrolled": true
   },
   "outputs": [
    {
     "name": "stdout",
     "output_type": "stream",
     "text": [
      "P(both girls | older is girl): 0.5007089325501317\n",
      "P(both girls | at least one is a girl): 0.3311897106109325\n"
     ]
    }
   ],
   "source": [
    "print(\"P(both girls | older is girl):\", both_girls / older_girl) # ~1/2\n",
    "print(\"P(both girls | at least one is a girl):\", both_girls / either_girl) # ~1/3"
   ]
  },
  {
   "cell_type": "markdown",
   "id": "6c7d6aa8",
   "metadata": {},
   "source": [
    "  "
   ]
  },
  {
   "cell_type": "code",
   "execution_count": null,
   "id": "ae8d1643",
   "metadata": {},
   "outputs": [],
   "source": []
  }
 ],
 "metadata": {
  "kernelspec": {
   "display_name": "Python 3 (ipykernel)",
   "language": "python",
   "name": "python3"
  },
  "language_info": {
   "codemirror_mode": {
    "name": "ipython",
    "version": 3
   },
   "file_extension": ".py",
   "mimetype": "text/x-python",
   "name": "python",
   "nbconvert_exporter": "python",
   "pygments_lexer": "ipython3",
   "version": "3.8.12"
  }
 },
 "nbformat": 4,
 "nbformat_minor": 5
}
